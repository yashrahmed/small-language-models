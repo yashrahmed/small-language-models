{
  "nbformat": 4,
  "nbformat_minor": 0,
  "metadata": {
    "colab": {
      "provenance": [],
      "toc_visible": true
    },
    "kernelspec": {
      "name": "python3",
      "display_name": "Python 3"
    },
    "language_info": {
      "name": "python"
    }
  },
  "cells": [
    {
      "cell_type": "markdown",
      "source": [
        "# Install Dependencies"
      ],
      "metadata": {
        "id": "qs9EQLngR5TT"
      }
    },
    {
      "cell_type": "code",
      "source": [
        "!pip3 install --upgrade pip\n",
        "!pip3 install micrograd\n",
        "!pip3 install torch==2.6.0 torchvision==0.21.0 torchaudio==2.6.0 tqdm==4.66.6\n",
        "!pip3 install torchviz"
      ],
      "metadata": {
        "colab": {
          "base_uri": "https://localhost:8080/"
        },
        "id": "wyX7_H8bR8vc",
        "outputId": "710ddeca-9472-4351-fa8b-60ee75e0a27d"
      },
      "execution_count": null,
      "outputs": [
        {
          "output_type": "stream",
          "name": "stdout",
          "text": [
            "Requirement already satisfied: pip in /usr/local/lib/python3.11/dist-packages (24.1.2)\n",
            "Collecting pip\n",
            "  Downloading pip-25.0.1-py3-none-any.whl.metadata (3.7 kB)\n",
            "Downloading pip-25.0.1-py3-none-any.whl (1.8 MB)\n",
            "\u001b[2K   \u001b[90m━━━━━━━━━━━━━━━━━━━━━━━━━━━━━━━━━━━━━━━━\u001b[0m \u001b[32m1.8/1.8 MB\u001b[0m \u001b[31m12.0 MB/s\u001b[0m eta \u001b[36m0:00:00\u001b[0m\n",
            "\u001b[?25hInstalling collected packages: pip\n",
            "  Attempting uninstall: pip\n",
            "    Found existing installation: pip 24.1.2\n",
            "    Uninstalling pip-24.1.2:\n",
            "      Successfully uninstalled pip-24.1.2\n",
            "Successfully installed pip-25.0.1\n",
            "Collecting micrograd\n",
            "  Downloading micrograd-0.1.0-py3-none-any.whl.metadata (2.6 kB)\n",
            "Downloading micrograd-0.1.0-py3-none-any.whl (4.9 kB)\n",
            "Installing collected packages: micrograd\n",
            "Successfully installed micrograd-0.1.0\n",
            "Collecting torch==2.6.0\n",
            "  Downloading torch-2.6.0-cp311-cp311-manylinux1_x86_64.whl.metadata (28 kB)\n",
            "Collecting torchvision==0.21.0\n",
            "  Downloading torchvision-0.21.0-cp311-cp311-manylinux1_x86_64.whl.metadata (6.1 kB)\n",
            "Collecting torchaudio==2.6.0\n",
            "  Downloading torchaudio-2.6.0-cp311-cp311-manylinux1_x86_64.whl.metadata (6.6 kB)\n",
            "Collecting tqdm==4.66.6\n",
            "  Downloading tqdm-4.66.6-py3-none-any.whl.metadata (57 kB)\n",
            "Requirement already satisfied: filelock in /usr/local/lib/python3.11/dist-packages (from torch==2.6.0) (3.17.0)\n",
            "Requirement already satisfied: typing-extensions>=4.10.0 in /usr/local/lib/python3.11/dist-packages (from torch==2.6.0) (4.12.2)\n",
            "Requirement already satisfied: networkx in /usr/local/lib/python3.11/dist-packages (from torch==2.6.0) (3.4.2)\n",
            "Requirement already satisfied: jinja2 in /usr/local/lib/python3.11/dist-packages (from torch==2.6.0) (3.1.5)\n",
            "Requirement already satisfied: fsspec in /usr/local/lib/python3.11/dist-packages (from torch==2.6.0) (2024.10.0)\n",
            "Collecting nvidia-cuda-nvrtc-cu12==12.4.127 (from torch==2.6.0)\n",
            "  Downloading nvidia_cuda_nvrtc_cu12-12.4.127-py3-none-manylinux2014_x86_64.whl.metadata (1.5 kB)\n",
            "Collecting nvidia-cuda-runtime-cu12==12.4.127 (from torch==2.6.0)\n",
            "  Downloading nvidia_cuda_runtime_cu12-12.4.127-py3-none-manylinux2014_x86_64.whl.metadata (1.5 kB)\n",
            "Collecting nvidia-cuda-cupti-cu12==12.4.127 (from torch==2.6.0)\n",
            "  Downloading nvidia_cuda_cupti_cu12-12.4.127-py3-none-manylinux2014_x86_64.whl.metadata (1.6 kB)\n",
            "Collecting nvidia-cudnn-cu12==9.1.0.70 (from torch==2.6.0)\n",
            "  Downloading nvidia_cudnn_cu12-9.1.0.70-py3-none-manylinux2014_x86_64.whl.metadata (1.6 kB)\n",
            "Collecting nvidia-cublas-cu12==12.4.5.8 (from torch==2.6.0)\n",
            "  Downloading nvidia_cublas_cu12-12.4.5.8-py3-none-manylinux2014_x86_64.whl.metadata (1.5 kB)\n",
            "Collecting nvidia-cufft-cu12==11.2.1.3 (from torch==2.6.0)\n",
            "  Downloading nvidia_cufft_cu12-11.2.1.3-py3-none-manylinux2014_x86_64.whl.metadata (1.5 kB)\n",
            "Collecting nvidia-curand-cu12==10.3.5.147 (from torch==2.6.0)\n",
            "  Downloading nvidia_curand_cu12-10.3.5.147-py3-none-manylinux2014_x86_64.whl.metadata (1.5 kB)\n",
            "Collecting nvidia-cusolver-cu12==11.6.1.9 (from torch==2.6.0)\n",
            "  Downloading nvidia_cusolver_cu12-11.6.1.9-py3-none-manylinux2014_x86_64.whl.metadata (1.6 kB)\n",
            "Collecting nvidia-cusparse-cu12==12.3.1.170 (from torch==2.6.0)\n",
            "  Downloading nvidia_cusparse_cu12-12.3.1.170-py3-none-manylinux2014_x86_64.whl.metadata (1.6 kB)\n",
            "Collecting nvidia-cusparselt-cu12==0.6.2 (from torch==2.6.0)\n",
            "  Downloading nvidia_cusparselt_cu12-0.6.2-py3-none-manylinux2014_x86_64.whl.metadata (6.8 kB)\n",
            "Requirement already satisfied: nvidia-nccl-cu12==2.21.5 in /usr/local/lib/python3.11/dist-packages (from torch==2.6.0) (2.21.5)\n",
            "Requirement already satisfied: nvidia-nvtx-cu12==12.4.127 in /usr/local/lib/python3.11/dist-packages (from torch==2.6.0) (12.4.127)\n",
            "Collecting nvidia-nvjitlink-cu12==12.4.127 (from torch==2.6.0)\n",
            "  Downloading nvidia_nvjitlink_cu12-12.4.127-py3-none-manylinux2014_x86_64.whl.metadata (1.5 kB)\n",
            "Collecting triton==3.2.0 (from torch==2.6.0)\n",
            "  Downloading triton-3.2.0-cp311-cp311-manylinux_2_17_x86_64.manylinux2014_x86_64.whl.metadata (1.4 kB)\n",
            "Requirement already satisfied: sympy==1.13.1 in /usr/local/lib/python3.11/dist-packages (from torch==2.6.0) (1.13.1)\n",
            "Requirement already satisfied: numpy in /usr/local/lib/python3.11/dist-packages (from torchvision==0.21.0) (1.26.4)\n",
            "Requirement already satisfied: pillow!=8.3.*,>=5.3.0 in /usr/local/lib/python3.11/dist-packages (from torchvision==0.21.0) (11.1.0)\n",
            "Requirement already satisfied: mpmath<1.4,>=1.1.0 in /usr/local/lib/python3.11/dist-packages (from sympy==1.13.1->torch==2.6.0) (1.3.0)\n",
            "Requirement already satisfied: MarkupSafe>=2.0 in /usr/local/lib/python3.11/dist-packages (from jinja2->torch==2.6.0) (3.0.2)\n",
            "Downloading torch-2.6.0-cp311-cp311-manylinux1_x86_64.whl (766.7 MB)\n",
            "\u001b[2K   \u001b[90m━━━━━━━━━━━━━━━━━━━━━━━━━━━━━━━━━━━━━━━━\u001b[0m \u001b[32m766.7/766.7 MB\u001b[0m \u001b[31m17.0 MB/s\u001b[0m eta \u001b[36m0:00:00\u001b[0m\n",
            "\u001b[?25hDownloading torchvision-0.21.0-cp311-cp311-manylinux1_x86_64.whl (7.2 MB)\n",
            "\u001b[2K   \u001b[90m━━━━━━━━━━━━━━━━━━━━━━━━━━━━━━━━━━━━━━━━\u001b[0m \u001b[32m7.2/7.2 MB\u001b[0m \u001b[31m101.3 MB/s\u001b[0m eta \u001b[36m0:00:00\u001b[0m\n",
            "\u001b[?25hDownloading torchaudio-2.6.0-cp311-cp311-manylinux1_x86_64.whl (3.4 MB)\n",
            "\u001b[2K   \u001b[90m━━━━━━━━━━━━━━━━━━━━━━━━━━━━━━━━━━━━━━━━\u001b[0m \u001b[32m3.4/3.4 MB\u001b[0m \u001b[31m65.4 MB/s\u001b[0m eta \u001b[36m0:00:00\u001b[0m\n",
            "\u001b[?25hDownloading tqdm-4.66.6-py3-none-any.whl (78 kB)\n",
            "Downloading nvidia_cublas_cu12-12.4.5.8-py3-none-manylinux2014_x86_64.whl (363.4 MB)\n",
            "\u001b[2K   \u001b[90m━━━━━━━━━━━━━━━━━━━━━━━━━━━━━━━━━━━━━━━━\u001b[0m \u001b[32m363.4/363.4 MB\u001b[0m \u001b[31m58.4 MB/s\u001b[0m eta \u001b[36m0:00:00\u001b[0m\n",
            "\u001b[?25hDownloading nvidia_cuda_cupti_cu12-12.4.127-py3-none-manylinux2014_x86_64.whl (13.8 MB)\n",
            "\u001b[2K   \u001b[90m━━━━━━━━━━━━━━━━━━━━━━━━━━━━━━━━━━━━━━━━\u001b[0m \u001b[32m13.8/13.8 MB\u001b[0m \u001b[31m85.9 MB/s\u001b[0m eta \u001b[36m0:00:00\u001b[0m\n",
            "\u001b[?25hDownloading nvidia_cuda_nvrtc_cu12-12.4.127-py3-none-manylinux2014_x86_64.whl (24.6 MB)\n",
            "\u001b[2K   \u001b[90m━━━━━━━━━━━━━━━━━━━━━━━━━━━━━━━━━━━━━━━━\u001b[0m \u001b[32m24.6/24.6 MB\u001b[0m \u001b[31m63.8 MB/s\u001b[0m eta \u001b[36m0:00:00\u001b[0m\n",
            "\u001b[?25hDownloading nvidia_cuda_runtime_cu12-12.4.127-py3-none-manylinux2014_x86_64.whl (883 kB)\n",
            "\u001b[2K   \u001b[90m━━━━━━━━━━━━━━━━━━━━━━━━━━━━━━━━━━━━━━━━\u001b[0m \u001b[32m883.7/883.7 kB\u001b[0m \u001b[31m22.5 MB/s\u001b[0m eta \u001b[36m0:00:00\u001b[0m\n",
            "\u001b[?25hDownloading nvidia_cudnn_cu12-9.1.0.70-py3-none-manylinux2014_x86_64.whl (664.8 MB)\n",
            "\u001b[2K   \u001b[90m━━━━━━━━━━━━━━━━━━━━━━━━━━━━━━━━━━━━━━━━\u001b[0m \u001b[32m664.8/664.8 MB\u001b[0m \u001b[31m19.2 MB/s\u001b[0m eta \u001b[36m0:00:00\u001b[0m\n",
            "\u001b[?25hDownloading nvidia_cufft_cu12-11.2.1.3-py3-none-manylinux2014_x86_64.whl (211.5 MB)\n",
            "\u001b[2K   \u001b[90m━━━━━━━━━━━━━━━━━━━━━━━━━━━━━━━━━━━━━━━━\u001b[0m \u001b[32m211.5/211.5 MB\u001b[0m \u001b[31m65.3 MB/s\u001b[0m eta \u001b[36m0:00:00\u001b[0m\n",
            "\u001b[?25hDownloading nvidia_curand_cu12-10.3.5.147-py3-none-manylinux2014_x86_64.whl (56.3 MB)\n",
            "\u001b[2K   \u001b[90m━━━━━━━━━━━━━━━━━━━━━━━━━━━━━━━━━━━━━━━━\u001b[0m \u001b[32m56.3/56.3 MB\u001b[0m \u001b[31m53.9 MB/s\u001b[0m eta \u001b[36m0:00:00\u001b[0m\n",
            "\u001b[?25hDownloading nvidia_cusolver_cu12-11.6.1.9-py3-none-manylinux2014_x86_64.whl (127.9 MB)\n",
            "\u001b[2K   \u001b[90m━━━━━━━━━━━━━━━━━━━━━━━━━━━━━━━━━━━━━━━━\u001b[0m \u001b[32m127.9/127.9 MB\u001b[0m \u001b[31m57.8 MB/s\u001b[0m eta \u001b[36m0:00:00\u001b[0m\n",
            "\u001b[?25hDownloading nvidia_cusparse_cu12-12.3.1.170-py3-none-manylinux2014_x86_64.whl (207.5 MB)\n",
            "\u001b[2K   \u001b[90m━━━━━━━━━━━━━━━━━━━━━━━━━━━━━━━━━━━━━━━━\u001b[0m \u001b[32m207.5/207.5 MB\u001b[0m \u001b[31m65.4 MB/s\u001b[0m eta \u001b[36m0:00:00\u001b[0m\n",
            "\u001b[?25hDownloading nvidia_cusparselt_cu12-0.6.2-py3-none-manylinux2014_x86_64.whl (150.1 MB)\n",
            "\u001b[2K   \u001b[90m━━━━━━━━━━━━━━━━━━━━━━━━━━━━━━━━━━━━━━━━\u001b[0m \u001b[32m150.1/150.1 MB\u001b[0m \u001b[31m55.8 MB/s\u001b[0m eta \u001b[36m0:00:00\u001b[0m\n",
            "\u001b[?25hDownloading nvidia_nvjitlink_cu12-12.4.127-py3-none-manylinux2014_x86_64.whl (21.1 MB)\n",
            "\u001b[2K   \u001b[90m━━━━━━━━━━━━━━━━━━━━━━━━━━━━━━━━━━━━━━━━\u001b[0m \u001b[32m21.1/21.1 MB\u001b[0m \u001b[31m105.7 MB/s\u001b[0m eta \u001b[36m0:00:00\u001b[0m\n",
            "\u001b[?25hDownloading triton-3.2.0-cp311-cp311-manylinux_2_17_x86_64.manylinux2014_x86_64.whl (253.2 MB)\n",
            "\u001b[2K   \u001b[90m━━━━━━━━━━━━━━━━━━━━━━━━━━━━━━━━━━━━━━━━\u001b[0m \u001b[32m253.2/253.2 MB\u001b[0m \u001b[31m65.3 MB/s\u001b[0m eta \u001b[36m0:00:00\u001b[0m\n",
            "\u001b[?25hInstalling collected packages: triton, nvidia-cusparselt-cu12, tqdm, nvidia-nvjitlink-cu12, nvidia-curand-cu12, nvidia-cufft-cu12, nvidia-cuda-runtime-cu12, nvidia-cuda-nvrtc-cu12, nvidia-cuda-cupti-cu12, nvidia-cublas-cu12, nvidia-cusparse-cu12, nvidia-cudnn-cu12, nvidia-cusolver-cu12, torch, torchvision, torchaudio\n",
            "  Attempting uninstall: triton\n",
            "    Found existing installation: triton 3.1.0\n",
            "    Uninstalling triton-3.1.0:\n",
            "      Successfully uninstalled triton-3.1.0\n",
            "  Attempting uninstall: tqdm\n",
            "    Found existing installation: tqdm 4.67.1\n",
            "    Uninstalling tqdm-4.67.1:\n",
            "      Successfully uninstalled tqdm-4.67.1\n",
            "  Attempting uninstall: nvidia-nvjitlink-cu12\n",
            "    Found existing installation: nvidia-nvjitlink-cu12 12.5.82\n",
            "    Uninstalling nvidia-nvjitlink-cu12-12.5.82:\n",
            "      Successfully uninstalled nvidia-nvjitlink-cu12-12.5.82\n",
            "  Attempting uninstall: nvidia-curand-cu12\n",
            "    Found existing installation: nvidia-curand-cu12 10.3.6.82\n",
            "    Uninstalling nvidia-curand-cu12-10.3.6.82:\n",
            "      Successfully uninstalled nvidia-curand-cu12-10.3.6.82\n",
            "  Attempting uninstall: nvidia-cufft-cu12\n",
            "    Found existing installation: nvidia-cufft-cu12 11.2.3.61\n",
            "    Uninstalling nvidia-cufft-cu12-11.2.3.61:\n",
            "      Successfully uninstalled nvidia-cufft-cu12-11.2.3.61\n",
            "  Attempting uninstall: nvidia-cuda-runtime-cu12\n",
            "    Found existing installation: nvidia-cuda-runtime-cu12 12.5.82\n",
            "    Uninstalling nvidia-cuda-runtime-cu12-12.5.82:\n",
            "      Successfully uninstalled nvidia-cuda-runtime-cu12-12.5.82\n",
            "  Attempting uninstall: nvidia-cuda-nvrtc-cu12\n",
            "    Found existing installation: nvidia-cuda-nvrtc-cu12 12.5.82\n",
            "    Uninstalling nvidia-cuda-nvrtc-cu12-12.5.82:\n",
            "      Successfully uninstalled nvidia-cuda-nvrtc-cu12-12.5.82\n",
            "  Attempting uninstall: nvidia-cuda-cupti-cu12\n",
            "    Found existing installation: nvidia-cuda-cupti-cu12 12.5.82\n",
            "    Uninstalling nvidia-cuda-cupti-cu12-12.5.82:\n",
            "      Successfully uninstalled nvidia-cuda-cupti-cu12-12.5.82\n",
            "  Attempting uninstall: nvidia-cublas-cu12\n",
            "    Found existing installation: nvidia-cublas-cu12 12.5.3.2\n",
            "    Uninstalling nvidia-cublas-cu12-12.5.3.2:\n",
            "      Successfully uninstalled nvidia-cublas-cu12-12.5.3.2\n",
            "  Attempting uninstall: nvidia-cusparse-cu12\n",
            "    Found existing installation: nvidia-cusparse-cu12 12.5.1.3\n",
            "    Uninstalling nvidia-cusparse-cu12-12.5.1.3:\n",
            "      Successfully uninstalled nvidia-cusparse-cu12-12.5.1.3\n",
            "  Attempting uninstall: nvidia-cudnn-cu12\n",
            "    Found existing installation: nvidia-cudnn-cu12 9.3.0.75\n",
            "    Uninstalling nvidia-cudnn-cu12-9.3.0.75:\n",
            "      Successfully uninstalled nvidia-cudnn-cu12-9.3.0.75\n",
            "  Attempting uninstall: nvidia-cusolver-cu12\n",
            "    Found existing installation: nvidia-cusolver-cu12 11.6.3.83\n",
            "    Uninstalling nvidia-cusolver-cu12-11.6.3.83:\n",
            "      Successfully uninstalled nvidia-cusolver-cu12-11.6.3.83\n",
            "  Attempting uninstall: torch\n",
            "    Found existing installation: torch 2.5.1+cu124\n",
            "    Uninstalling torch-2.5.1+cu124:\n",
            "      Successfully uninstalled torch-2.5.1+cu124\n",
            "  Attempting uninstall: torchvision\n",
            "    Found existing installation: torchvision 0.20.1+cu124\n",
            "    Uninstalling torchvision-0.20.1+cu124:\n",
            "      Successfully uninstalled torchvision-0.20.1+cu124\n",
            "  Attempting uninstall: torchaudio\n",
            "    Found existing installation: torchaudio 2.5.1+cu124\n",
            "    Uninstalling torchaudio-2.5.1+cu124:\n",
            "      Successfully uninstalled torchaudio-2.5.1+cu124\n",
            "\u001b[31mERROR: pip's dependency resolver does not currently take into account all the packages that are installed. This behaviour is the source of the following dependency conflicts.\n",
            "fastai 2.7.18 requires torch<2.6,>=1.10, but you have torch 2.6.0 which is incompatible.\u001b[0m\u001b[31m\n",
            "\u001b[0mSuccessfully installed nvidia-cublas-cu12-12.4.5.8 nvidia-cuda-cupti-cu12-12.4.127 nvidia-cuda-nvrtc-cu12-12.4.127 nvidia-cuda-runtime-cu12-12.4.127 nvidia-cudnn-cu12-9.1.0.70 nvidia-cufft-cu12-11.2.1.3 nvidia-curand-cu12-10.3.5.147 nvidia-cusolver-cu12-11.6.1.9 nvidia-cusparse-cu12-12.3.1.170 nvidia-cusparselt-cu12-0.6.2 nvidia-nvjitlink-cu12-12.4.127 torch-2.6.0 torchaudio-2.6.0 torchvision-0.21.0 tqdm-4.66.6 triton-3.2.0\n",
            "Collecting torchviz\n",
            "  Downloading torchviz-0.0.3-py3-none-any.whl.metadata (2.1 kB)\n",
            "Requirement already satisfied: torch in /usr/local/lib/python3.11/dist-packages (from torchviz) (2.6.0)\n",
            "Requirement already satisfied: graphviz in /usr/local/lib/python3.11/dist-packages (from torchviz) (0.20.3)\n",
            "Requirement already satisfied: filelock in /usr/local/lib/python3.11/dist-packages (from torch->torchviz) (3.17.0)\n",
            "Requirement already satisfied: typing-extensions>=4.10.0 in /usr/local/lib/python3.11/dist-packages (from torch->torchviz) (4.12.2)\n",
            "Requirement already satisfied: networkx in /usr/local/lib/python3.11/dist-packages (from torch->torchviz) (3.4.2)\n",
            "Requirement already satisfied: jinja2 in /usr/local/lib/python3.11/dist-packages (from torch->torchviz) (3.1.5)\n",
            "Requirement already satisfied: fsspec in /usr/local/lib/python3.11/dist-packages (from torch->torchviz) (2024.10.0)\n",
            "Requirement already satisfied: nvidia-cuda-nvrtc-cu12==12.4.127 in /usr/local/lib/python3.11/dist-packages (from torch->torchviz) (12.4.127)\n",
            "Requirement already satisfied: nvidia-cuda-runtime-cu12==12.4.127 in /usr/local/lib/python3.11/dist-packages (from torch->torchviz) (12.4.127)\n",
            "Requirement already satisfied: nvidia-cuda-cupti-cu12==12.4.127 in /usr/local/lib/python3.11/dist-packages (from torch->torchviz) (12.4.127)\n",
            "Requirement already satisfied: nvidia-cudnn-cu12==9.1.0.70 in /usr/local/lib/python3.11/dist-packages (from torch->torchviz) (9.1.0.70)\n",
            "Requirement already satisfied: nvidia-cublas-cu12==12.4.5.8 in /usr/local/lib/python3.11/dist-packages (from torch->torchviz) (12.4.5.8)\n",
            "Requirement already satisfied: nvidia-cufft-cu12==11.2.1.3 in /usr/local/lib/python3.11/dist-packages (from torch->torchviz) (11.2.1.3)\n",
            "Requirement already satisfied: nvidia-curand-cu12==10.3.5.147 in /usr/local/lib/python3.11/dist-packages (from torch->torchviz) (10.3.5.147)\n",
            "Requirement already satisfied: nvidia-cusolver-cu12==11.6.1.9 in /usr/local/lib/python3.11/dist-packages (from torch->torchviz) (11.6.1.9)\n",
            "Requirement already satisfied: nvidia-cusparse-cu12==12.3.1.170 in /usr/local/lib/python3.11/dist-packages (from torch->torchviz) (12.3.1.170)\n",
            "Requirement already satisfied: nvidia-cusparselt-cu12==0.6.2 in /usr/local/lib/python3.11/dist-packages (from torch->torchviz) (0.6.2)\n",
            "Requirement already satisfied: nvidia-nccl-cu12==2.21.5 in /usr/local/lib/python3.11/dist-packages (from torch->torchviz) (2.21.5)\n",
            "Requirement already satisfied: nvidia-nvtx-cu12==12.4.127 in /usr/local/lib/python3.11/dist-packages (from torch->torchviz) (12.4.127)\n",
            "Requirement already satisfied: nvidia-nvjitlink-cu12==12.4.127 in /usr/local/lib/python3.11/dist-packages (from torch->torchviz) (12.4.127)\n",
            "Requirement already satisfied: triton==3.2.0 in /usr/local/lib/python3.11/dist-packages (from torch->torchviz) (3.2.0)\n",
            "Requirement already satisfied: sympy==1.13.1 in /usr/local/lib/python3.11/dist-packages (from torch->torchviz) (1.13.1)\n",
            "Requirement already satisfied: mpmath<1.4,>=1.1.0 in /usr/local/lib/python3.11/dist-packages (from sympy==1.13.1->torch->torchviz) (1.3.0)\n",
            "Requirement already satisfied: MarkupSafe>=2.0 in /usr/local/lib/python3.11/dist-packages (from jinja2->torch->torchviz) (3.0.2)\n",
            "Downloading torchviz-0.0.3-py3-none-any.whl (5.7 kB)\n",
            "Installing collected packages: torchviz\n",
            "Successfully installed torchviz-0.0.3\n"
          ]
        }
      ]
    },
    {
      "cell_type": "markdown",
      "source": [
        "# Introduction to Automatic gradients."
      ],
      "metadata": {
        "id": "X-mg1ZWGVVq7"
      }
    },
    {
      "cell_type": "code",
      "source": [
        "def f(x):\n",
        "  return 3*x**2 - 4*x + 5"
      ],
      "metadata": {
        "id": "StHaMFjhVbzV"
      },
      "execution_count": null,
      "outputs": []
    },
    {
      "cell_type": "code",
      "source": [
        "import numpy as np\n",
        "from matplotlib import pyplot as plt\n",
        "\n",
        "xs = np.arange(-5, 5, 0.25)\n",
        "ys = f(xs)"
      ],
      "metadata": {
        "id": "sqn2fA2IV6Fi"
      },
      "execution_count": null,
      "outputs": []
    },
    {
      "cell_type": "code",
      "source": [
        "plt.plot(xs, ys)"
      ],
      "metadata": {
        "colab": {
          "base_uri": "https://localhost:8080/",
          "height": 447
        },
        "id": "zHLzqIV5WQM8",
        "outputId": "19b5d111-52e4-41a2-fbef-0dc239646111"
      },
      "execution_count": null,
      "outputs": [
        {
          "output_type": "execute_result",
          "data": {
            "text/plain": [
              "[<matplotlib.lines.Line2D at 0x79d5ae69a5d0>]"
            ]
          },
          "metadata": {},
          "execution_count": 10
        },
        {
          "output_type": "display_data",
          "data": {
            "text/plain": [
              "<Figure size 640x480 with 1 Axes>"
            ],
            "image/png": "[encoded data removed]"
          },
          "metadata": {}
        }
      ]
    },
    {
      "cell_type": "code",
      "source": [
        "class Value:\n",
        "\n",
        "  def __init__(self, data, _children=(), _op='') -> None:\n",
        "    self.data = data\n",
        "    self.grad = 0.0\n",
        "    self._prev = set(_children)\n",
        "    self._op = _op\n",
        "\n",
        "  def __repr__(self) -> str:\n",
        "    return f\"Value(data={self.data})\"\n",
        "\n",
        "  def __add__(self, other):\n",
        "    return Value(self.data + other.data, (self, other), '+')\n",
        "\n",
        "  def __sub__(self, other):\n",
        "    return Value(self.data - other.data, (self, other), '-')\n",
        "\n",
        "  def __mul__(self, other):\n",
        "    return Value(self.data * other.data, (self, other), '*')"
      ],
      "metadata": {
        "id": "VmmTZhxlXtJA"
      },
      "execution_count": null,
      "outputs": []
    },
    {
      "cell_type": "code",
      "source": [
        "a = Value(2.0)\n",
        "b = Value(-3.0)\n",
        "c = Value(10.0)\n",
        "d = a * b + c"
      ],
      "metadata": {
        "id": "hsejnBb1ZFuf"
      },
      "execution_count": null,
      "outputs": []
    },
    {
      "cell_type": "code",
      "source": [
        "import torch\n",
        "from torch import tensor\n",
        "\n",
        "x1 = tensor(2.0, requires_grad=True)\n",
        "x2 = tensor(0.0, requires_grad=True)\n",
        "w1 = tensor(-3.0, requires_grad=True)\n",
        "w2 = tensor(1.0, requires_grad=True)\n",
        "b = tensor(6.88, requires_grad=True)\n",
        "n = x1 * w1 + x2 * w2 + b\n",
        "o = torch.tanh(n)\n"
      ],
      "metadata": {
        "id": "1w8aMw-raS0C"
      },
      "execution_count": null,
      "outputs": []
    },
    {
      "cell_type": "code",
      "source": [],
      "metadata": {
        "id": "xcuOm0vvRzWB"
      },
      "execution_count": null,
      "outputs": []
    },
    {
      "cell_type": "code",
      "source": [
        "from torchviz import make_dot\n",
        "\n",
        "dot = make_dot(o, params={\"x1\": x1, \"x2\": x2, \"w1\": w1, \"w2\": w2, \"b\": b  })\n",
        "dot.render(\"tensor_graph\", format=\"png\")  # Saves graph as PNG\n",
        "dot  # Displays in a Jupyter notebook (if running interactively)"
      ],
      "metadata": {
        "colab": {
          "base_uri": "https://localhost:8080/",
          "height": 543
        },
        "id": "bw4bmDUOfZnI",
        "outputId": "86702f6b-cdad-4003-b9f0-f7d69f4e708c"
      },
      "execution_count": null,
      "outputs": [
        {
          "output_type": "execute_result",
          "data": {
            "image/svg+xml": "<?xml version=\"1.0\" encoding=\"UTF-8\" standalone=\"no\"?>\n<!DOCTYPE svg PUBLIC \"-//W3C//DTD SVG 1.1//EN\"\n \"http://www.w3.org/Graphics/SVG/1.1/DTD/svg11.dtd\">\n<!-- Generated by graphviz version 2.43.0 (0)\n -->\n<!-- Title: %3 Pages: 1 -->\n<svg width=\"466pt\" height=\"391pt\"\n viewBox=\"0.00 0.00 466.00 391.00\" xmlns=\"http://www.w3.org/2000/svg\" xmlns:xlink=\"http://www.w3.org/1999/xlink\">\n<g id=\"graph0\" class=\"graph\" transform=\"scale(1 1) rotate(0) translate(4 387)\">\n<title>%3</title>\n<polygon fill=\"white\" stroke=\"transparent\" points=\"-4,4 -4,-387 462,-387 462,4 -4,4\"/>\n<!-- 134447486463504 -->\n<g id=\"node1\" class=\"node\">\n<title>134447486463504</title>\n<polygon fill=\"#caff70\" stroke=\"black\" points=\"359.5,-31 305.5,-31 305.5,0 359.5,0 359.5,-31\"/>\n<text text-anchor=\"middle\" x=\"332.5\" y=\"-7\" font-family=\"monospace\" font-size=\"10.00\"> ()</text>\n</g>\n<!-- 134447497145856 -->\n<g id=\"node2\" class=\"node\">\n<title>134447497145856</title>\n<polygon fill=\"lightgrey\" stroke=\"black\" points=\"380,-86 285,-86 285,-67 380,-67 380,-86\"/>\n<text text-anchor=\"middle\" x=\"332.5\" y=\"-74\" font-family=\"monospace\" font-size=\"10.00\">TanhBackward0</text>\n</g>\n<!-- 134447497145856&#45;&gt;134447486463504 -->\n<g id=\"edge15\" class=\"edge\">\n<title>134447497145856&#45;&gt;134447486463504</title>\n<path fill=\"none\" stroke=\"black\" d=\"M332.5,-66.79C332.5,-60.07 332.5,-50.4 332.5,-41.34\"/>\n<polygon fill=\"black\" stroke=\"black\" points=\"336,-41.19 332.5,-31.19 329,-41.19 336,-41.19\"/>\n</g>\n<!-- 134447497146912 -->\n<g id=\"node3\" class=\"node\">\n<title>134447497146912</title>\n<polygon fill=\"lightgrey\" stroke=\"black\" points=\"377,-141 288,-141 288,-122 377,-122 377,-141\"/>\n<text text-anchor=\"middle\" x=\"332.5\" y=\"-129\" font-family=\"monospace\" font-size=\"10.00\">AddBackward0</text>\n</g>\n<!-- 134447497146912&#45;&gt;134447497145856 -->\n<g id=\"edge1\" class=\"edge\">\n<title>134447497146912&#45;&gt;134447497145856</title>\n<path fill=\"none\" stroke=\"black\" d=\"M332.5,-121.75C332.5,-114.8 332.5,-104.85 332.5,-96.13\"/>\n<polygon fill=\"black\" stroke=\"black\" points=\"336,-96.09 332.5,-86.09 329,-96.09 336,-96.09\"/>\n</g>\n<!-- 134447495812656 -->\n<g id=\"node4\" class=\"node\">\n<title>134447495812656</title>\n<polygon fill=\"lightgrey\" stroke=\"black\" points=\"321,-196 232,-196 232,-177 321,-177 321,-196\"/>\n<text text-anchor=\"middle\" x=\"276.5\" y=\"-184\" font-family=\"monospace\" font-size=\"10.00\">AddBackward0</text>\n</g>\n<!-- 134447495812656&#45;&gt;134447497146912 -->\n<g id=\"edge2\" class=\"edge\">\n<title>134447495812656&#45;&gt;134447497146912</title>\n<path fill=\"none\" stroke=\"black\" d=\"M285.5,-176.98C293.69,-169.23 306.01,-157.58 315.97,-148.14\"/>\n<polygon fill=\"black\" stroke=\"black\" points=\"318.48,-150.59 323.34,-141.17 313.67,-145.5 318.48,-150.59\"/>\n</g>\n<!-- 134447495817168 -->\n<g id=\"node5\" class=\"node\">\n<title>134447495817168</title>\n<polygon fill=\"lightgrey\" stroke=\"black\" points=\"214,-256.5 125,-256.5 125,-237.5 214,-237.5 214,-256.5\"/>\n<text text-anchor=\"middle\" x=\"169.5\" y=\"-244.5\" font-family=\"monospace\" font-size=\"10.00\">MulBackward0</text>\n</g>\n<!-- 134447495817168&#45;&gt;134447495812656 -->\n<g id=\"edge3\" class=\"edge\">\n<title>134447495817168&#45;&gt;134447495812656</title>\n<path fill=\"none\" stroke=\"black\" d=\"M185.29,-237.37C202.83,-227.78 231.38,-212.17 251.87,-200.97\"/>\n<polygon fill=\"black\" stroke=\"black\" points=\"253.55,-204.04 260.65,-196.17 250.19,-197.89 253.55,-204.04\"/>\n</g>\n<!-- 134447495815776 -->\n<g id=\"node6\" class=\"node\">\n<title>134447495815776</title>\n<polygon fill=\"lightgrey\" stroke=\"black\" points=\"101,-317 0,-317 0,-298 101,-298 101,-317\"/>\n<text text-anchor=\"middle\" x=\"50.5\" y=\"-305\" font-family=\"monospace\" font-size=\"10.00\">AccumulateGrad</text>\n</g>\n<!-- 134447495815776&#45;&gt;134447495817168 -->\n<g id=\"edge4\" class=\"edge\">\n<title>134447495815776&#45;&gt;134447495817168</title>\n<path fill=\"none\" stroke=\"black\" d=\"M67.8,-297.99C87.55,-288.29 120.05,-272.31 142.99,-261.03\"/>\n<polygon fill=\"black\" stroke=\"black\" points=\"144.75,-264.07 152.18,-256.52 141.66,-257.79 144.75,-264.07\"/>\n</g>\n<!-- 134447486459280 -->\n<g id=\"node7\" class=\"node\">\n<title>134447486459280</title>\n<polygon fill=\"lightblue\" stroke=\"black\" points=\"77.5,-383 23.5,-383 23.5,-353 77.5,-353 77.5,-383\"/>\n<text text-anchor=\"middle\" x=\"50.5\" y=\"-371\" font-family=\"monospace\" font-size=\"10.00\">x1</text>\n<text text-anchor=\"middle\" x=\"50.5\" y=\"-360\" font-family=\"monospace\" font-size=\"10.00\"> ()</text>\n</g>\n<!-- 134447486459280&#45;&gt;134447495815776 -->\n<g id=\"edge5\" class=\"edge\">\n<title>134447486459280&#45;&gt;134447495815776</title>\n<path fill=\"none\" stroke=\"black\" d=\"M50.5,-352.84C50.5,-345.21 50.5,-335.7 50.5,-327.45\"/>\n<polygon fill=\"black\" stroke=\"black\" points=\"54,-327.27 50.5,-317.27 47,-327.27 54,-327.27\"/>\n</g>\n<!-- 134447495813808 -->\n<g id=\"node8\" class=\"node\">\n<title>134447495813808</title>\n<polygon fill=\"lightgrey\" stroke=\"black\" points=\"220,-317 119,-317 119,-298 220,-298 220,-317\"/>\n<text text-anchor=\"middle\" x=\"169.5\" y=\"-305\" font-family=\"monospace\" font-size=\"10.00\">AccumulateGrad</text>\n</g>\n<!-- 134447495813808&#45;&gt;134447495817168 -->\n<g id=\"edge6\" class=\"edge\">\n<title>134447495813808&#45;&gt;134447495817168</title>\n<path fill=\"none\" stroke=\"black\" d=\"M169.5,-297.87C169.5,-289.75 169.5,-277.31 169.5,-266.89\"/>\n<polygon fill=\"black\" stroke=\"black\" points=\"173,-266.67 169.5,-256.67 166,-266.67 173,-266.67\"/>\n</g>\n<!-- 134447486460432 -->\n<g id=\"node9\" class=\"node\">\n<title>134447486460432</title>\n<polygon fill=\"lightblue\" stroke=\"black\" points=\"196.5,-383 142.5,-383 142.5,-353 196.5,-353 196.5,-383\"/>\n<text text-anchor=\"middle\" x=\"169.5\" y=\"-371\" font-family=\"monospace\" font-size=\"10.00\">w1</text>\n<text text-anchor=\"middle\" x=\"169.5\" y=\"-360\" font-family=\"monospace\" font-size=\"10.00\"> ()</text>\n</g>\n<!-- 134447486460432&#45;&gt;134447495813808 -->\n<g id=\"edge7\" class=\"edge\">\n<title>134447486460432&#45;&gt;134447495813808</title>\n<path fill=\"none\" stroke=\"black\" d=\"M169.5,-352.84C169.5,-345.21 169.5,-335.7 169.5,-327.45\"/>\n<polygon fill=\"black\" stroke=\"black\" points=\"173,-327.27 169.5,-317.27 166,-327.27 173,-327.27\"/>\n</g>\n<!-- 134447495818416 -->\n<g id=\"node10\" class=\"node\">\n<title>134447495818416</title>\n<polygon fill=\"lightgrey\" stroke=\"black\" points=\"333,-256.5 244,-256.5 244,-237.5 333,-237.5 333,-256.5\"/>\n<text text-anchor=\"middle\" x=\"288.5\" y=\"-244.5\" font-family=\"monospace\" font-size=\"10.00\">MulBackward0</text>\n</g>\n<!-- 134447495818416&#45;&gt;134447495812656 -->\n<g id=\"edge8\" class=\"edge\">\n<title>134447495818416&#45;&gt;134447495812656</title>\n<path fill=\"none\" stroke=\"black\" d=\"M286.73,-237.37C285.05,-229.16 282.46,-216.54 280.31,-206.05\"/>\n<polygon fill=\"black\" stroke=\"black\" points=\"283.72,-205.26 278.28,-196.17 276.86,-206.67 283.72,-205.26\"/>\n</g>\n<!-- 134447495817024 -->\n<g id=\"node11\" class=\"node\">\n<title>134447495817024</title>\n<polygon fill=\"lightgrey\" stroke=\"black\" points=\"339,-317 238,-317 238,-298 339,-298 339,-317\"/>\n<text text-anchor=\"middle\" x=\"288.5\" y=\"-305\" font-family=\"monospace\" font-size=\"10.00\">AccumulateGrad</text>\n</g>\n<!-- 134447495817024&#45;&gt;134447495818416 -->\n<g id=\"edge9\" class=\"edge\">\n<title>134447495817024&#45;&gt;134447495818416</title>\n<path fill=\"none\" stroke=\"black\" d=\"M288.5,-297.87C288.5,-289.75 288.5,-277.31 288.5,-266.89\"/>\n<polygon fill=\"black\" stroke=\"black\" points=\"292,-266.67 288.5,-256.67 285,-266.67 292,-266.67\"/>\n</g>\n<!-- 134447486460048 -->\n<g id=\"node12\" class=\"node\">\n<title>134447486460048</title>\n<polygon fill=\"lightblue\" stroke=\"black\" points=\"315.5,-383 261.5,-383 261.5,-353 315.5,-353 315.5,-383\"/>\n<text text-anchor=\"middle\" x=\"288.5\" y=\"-371\" font-family=\"monospace\" font-size=\"10.00\">x2</text>\n<text text-anchor=\"middle\" x=\"288.5\" y=\"-360\" font-family=\"monospace\" font-size=\"10.00\"> ()</text>\n</g>\n<!-- 134447486460048&#45;&gt;134447495817024 -->\n<g id=\"edge10\" class=\"edge\">\n<title>134447486460048&#45;&gt;134447495817024</title>\n<path fill=\"none\" stroke=\"black\" d=\"M288.5,-352.84C288.5,-345.21 288.5,-335.7 288.5,-327.45\"/>\n<polygon fill=\"black\" stroke=\"black\" points=\"292,-327.27 288.5,-317.27 285,-327.27 292,-327.27\"/>\n</g>\n<!-- 134447495818944 -->\n<g id=\"node13\" class=\"node\">\n<title>134447495818944</title>\n<polygon fill=\"lightgrey\" stroke=\"black\" points=\"458,-317 357,-317 357,-298 458,-298 458,-317\"/>\n<text text-anchor=\"middle\" x=\"407.5\" y=\"-305\" font-family=\"monospace\" font-size=\"10.00\">AccumulateGrad</text>\n</g>\n<!-- 134447495818944&#45;&gt;134447495818416 -->\n<g id=\"edge11\" class=\"edge\">\n<title>134447495818944&#45;&gt;134447495818416</title>\n<path fill=\"none\" stroke=\"black\" d=\"M390.2,-297.99C370.45,-288.29 337.95,-272.31 315.01,-261.03\"/>\n<polygon fill=\"black\" stroke=\"black\" points=\"316.34,-257.79 305.82,-256.52 313.25,-264.07 316.34,-257.79\"/>\n</g>\n<!-- 134447486463216 -->\n<g id=\"node14\" class=\"node\">\n<title>134447486463216</title>\n<polygon fill=\"lightblue\" stroke=\"black\" points=\"434.5,-383 380.5,-383 380.5,-353 434.5,-353 434.5,-383\"/>\n<text text-anchor=\"middle\" x=\"407.5\" y=\"-371\" font-family=\"monospace\" font-size=\"10.00\">w2</text>\n<text text-anchor=\"middle\" x=\"407.5\" y=\"-360\" font-family=\"monospace\" font-size=\"10.00\"> ()</text>\n</g>\n<!-- 134447486463216&#45;&gt;134447495818944 -->\n<g id=\"edge12\" class=\"edge\">\n<title>134447486463216&#45;&gt;134447495818944</title>\n<path fill=\"none\" stroke=\"black\" d=\"M407.5,-352.84C407.5,-345.21 407.5,-335.7 407.5,-327.45\"/>\n<polygon fill=\"black\" stroke=\"black\" points=\"411,-327.27 407.5,-317.27 404,-327.27 411,-327.27\"/>\n</g>\n<!-- 134447495814384 -->\n<g id=\"node15\" class=\"node\">\n<title>134447495814384</title>\n<polygon fill=\"lightgrey\" stroke=\"black\" points=\"440,-196 339,-196 339,-177 440,-177 440,-196\"/>\n<text text-anchor=\"middle\" x=\"389.5\" y=\"-184\" font-family=\"monospace\" font-size=\"10.00\">AccumulateGrad</text>\n</g>\n<!-- 134447495814384&#45;&gt;134447497146912 -->\n<g id=\"edge13\" class=\"edge\">\n<title>134447495814384&#45;&gt;134447497146912</title>\n<path fill=\"none\" stroke=\"black\" d=\"M380.34,-176.98C372,-169.23 359.47,-157.58 349.32,-148.14\"/>\n<polygon fill=\"black\" stroke=\"black\" points=\"351.53,-145.42 341.82,-141.17 346.76,-150.54 351.53,-145.42\"/>\n</g>\n<!-- 134447486462448 -->\n<g id=\"node16\" class=\"node\">\n<title>134447486462448</title>\n<polygon fill=\"lightblue\" stroke=\"black\" points=\"416.5,-262 362.5,-262 362.5,-232 416.5,-232 416.5,-262\"/>\n<text text-anchor=\"middle\" x=\"389.5\" y=\"-250\" font-family=\"monospace\" font-size=\"10.00\">b</text>\n<text text-anchor=\"middle\" x=\"389.5\" y=\"-239\" font-family=\"monospace\" font-size=\"10.00\"> ()</text>\n</g>\n<!-- 134447486462448&#45;&gt;134447495814384 -->\n<g id=\"edge14\" class=\"edge\">\n<title>134447486462448&#45;&gt;134447495814384</title>\n<path fill=\"none\" stroke=\"black\" d=\"M389.5,-231.84C389.5,-224.21 389.5,-214.7 389.5,-206.45\"/>\n<polygon fill=\"black\" stroke=\"black\" points=\"393,-206.27 389.5,-196.27 386,-206.27 393,-206.27\"/>\n</g>\n</g>\n</svg>\n",
            "text/plain": [
              "<graphviz.graphs.Digraph at 0x7a4788f03ad0>"
            ]
          },
          "metadata": {},
          "execution_count": 17
        }
      ]
    },
    {
      "cell_type": "code",
      "source": [
        "from graphviz import Digraph\n",
        "from torchviz import make_dot\n",
        "\n",
        "\n",
        "def bfs_trace(root):\n",
        "  nodes, edges = set([root]), set()\n",
        "  curr_nodes, new_nodes = set([root]), set()\n",
        "\n",
        "  while len(curr_nodes):\n",
        "    for node in curr_nodes:\n",
        "      for child in node._prev:\n",
        "        if child not in nodes:\n",
        "          new_nodes.add(child)\n",
        "          nodes.add(child)\n",
        "          edges.add((child, node))\n",
        "    curr_nodes.clear()\n",
        "    curr_nodes.update(new_nodes)\n",
        "    new_nodes.clear()\n",
        "\n",
        "  return nodes, edges"
      ],
      "metadata": {
        "id": "Y6X4cuLoavlO"
      },
      "execution_count": null,
      "outputs": []
    },
    {
      "cell_type": "markdown",
      "source": [
        "# Character level language modeling"
      ],
      "metadata": {
        "id": "NAK0QFXAQ7h7"
      }
    },
    {
      "cell_type": "markdown",
      "source": [
        "## Load dataset\n"
      ],
      "metadata": {
        "id": "FA_RZYXVRnLH"
      }
    },
    {
      "cell_type": "code",
      "source": [
        "def load_names_dataset():\n",
        "  all_names = []\n",
        "  with open('sample_data/names.txt', 'r') as names_file:\n",
        "    entries = names_file.read()\n",
        "    names = entries.splitlines()\n",
        "    all_names = names\n",
        "  return all_names"
      ],
      "metadata": {
        "id": "B9SlobaARDjr"
      },
      "execution_count": null,
      "outputs": []
    },
    {
      "cell_type": "code",
      "source": [
        "names_dataset = load_names_dataset()"
      ],
      "metadata": {
        "id": "0FxAdyFFSZ_f"
      },
      "execution_count": null,
      "outputs": []
    },
    {
      "cell_type": "code",
      "source": [
        "len(names_dataset)"
      ],
      "metadata": {
        "colab": {
          "base_uri": "https://localhost:8080/"
        },
        "id": "3J9fK6iFScau",
        "outputId": "1f679e93-a4ec-4b62-97cf-b65f8d300d22"
      },
      "execution_count": null,
      "outputs": [
        {
          "output_type": "execute_result",
          "data": {
            "text/plain": [
              "32033"
            ]
          },
          "metadata": {},
          "execution_count": 128
        }
      ]
    },
    {
      "cell_type": "markdown",
      "source": [
        "## Bi-gram model"
      ],
      "metadata": {
        "id": "ltWKgokrTXYA"
      }
    },
    {
      "cell_type": "code",
      "source": [
        "from collections import defaultdict\n",
        "from torch import tensor, int32, zeros, multinomial, Generator\n",
        "\n",
        "# def build_2gram(names):\n",
        "#   freq = defaultdict(int)\n",
        "#   for name in names:\n",
        "#     chars = ['.'] + list(name) + ['.'] # Attach special start and end of name token\n",
        "#     for ch1, ch2 in zip(chars, chars[1:]):\n",
        "#       freq[(ch1, ch2)] += 1\n",
        "#   return freq\n",
        "\n",
        "# def build_2gram_model(names):\n",
        "#   bi_grams = build_2gram(names)\n",
        "\n",
        "#   all_chars = ['.'] + [chr(i) for i in range(97, 97 + 26)]\n",
        "#   ch_idx_lookup_table = {}\n",
        "#   ch_lookup_table = {}\n",
        "#   for idx, ch in enumerate(all_chars):\n",
        "#     ch_idx_lookup_table[ch] = idx\n",
        "#     ch_lookup_table[idx] = ch\n",
        "\n",
        "#   prob_2gram_tensor = zeros((27, 27), dtype=int32)\n",
        "#   for (ch1, ch2), freq in bi_grams.items():\n",
        "#     ch1_idx = ch_idx_lookup_table[ch1]\n",
        "#     ch2_idx = ch_idx_lookup_table[ch2]\n",
        "#     prob_2gram_tensor[ch1_idx][ch2_idx] = freq\n",
        "#   row_totals = prob_2gram_tensor.sum(axis=1, keepdim=True)\n",
        "#   prob_2gram_tensor = prob_2gram_tensor / row_totals\n",
        "\n",
        "#   return prob_2gram_tensor, ch_lookup_table\n",
        "\n",
        "class BiGramModel:\n",
        "  def __init__(self, dataset) -> None:\n",
        "    self.ch_idx_lookup_table = {}\n",
        "    self.ch_lookup_table = {}\n",
        "    self.prob_2gram_tensor = zeros((27, 27), dtype=int32)\n",
        "    self._build_2gram_model(dataset)\n",
        "    self.gen = Generator().manual_seed(2147483647)\n",
        "\n",
        "  def _build_2gram(self, names):\n",
        "    freq = defaultdict(int)\n",
        "    for name in names:\n",
        "      chars = ['.'] + list(name) + ['.'] # Attach special start and end of name token\n",
        "      for ch1, ch2 in zip(chars, chars[1:]):\n",
        "        freq[(ch1, ch2)] += 1\n",
        "    return freq\n",
        "\n",
        "  def _build_2gram_model(self, names):\n",
        "    bi_grams = self._build_2gram(names)\n",
        "\n",
        "    all_chars = ['.'] + [chr(i) for i in range(97, 97 + 26)]\n",
        "\n",
        "    for idx, ch in enumerate(all_chars):\n",
        "      self.ch_idx_lookup_table[ch] = idx\n",
        "      self.ch_lookup_table[idx] = ch\n",
        "\n",
        "    for (ch1, ch2), freq in bi_grams.items():\n",
        "      ch1_idx = self.ch_idx_lookup_table[ch1]\n",
        "      ch2_idx = self.ch_idx_lookup_table[ch2]\n",
        "      self.prob_2gram_tensor[ch1_idx][ch2_idx] = freq\n",
        "    self.prob_2gram_tensor += 1.0 # Model smoothing; Non inf negative log likelihood\n",
        "    row_totals = self.prob_2gram_tensor.sum(axis=1, keepdim=True)\n",
        "    self.prob_2gram_tensor = self.prob_2gram_tensor / row_totals\n",
        "\n",
        "  def sample(self, max_len=25):\n",
        "    max_len = max(1, max_len)\n",
        "    idx = 0\n",
        "    chars = [self.ch_lookup_table[idx]]\n",
        "    for i in range(max_len):\n",
        "      next_idx =  multinomial(self.prob_2gram_tensor[idx], num_samples=1, replacement=True, generator=self.gen).item()\n",
        "      next_char = self.ch_lookup_table[next_idx]\n",
        "      chars.append(next_char)\n",
        "      if next_char == '.':\n",
        "        break\n",
        "      idx = next_idx\n",
        "    if chars[-1] != '.':\n",
        "      chars.append('.')\n",
        "\n",
        "    return ''.join(chars)"
      ],
      "metadata": {
        "id": "siQ30nrjTaFp"
      },
      "execution_count": null,
      "outputs": []
    },
    {
      "cell_type": "code",
      "source": [
        "model = BiGramModel(names_dataset)\n",
        "BG_TENSOR = model.prob_2gram_tensor"
      ],
      "metadata": {
        "id": "tWLhO4K9T589"
      },
      "execution_count": null,
      "outputs": []
    },
    {
      "cell_type": "code",
      "source": [
        "model.sample()"
      ],
      "metadata": {
        "colab": {
          "base_uri": "https://localhost:8080/",
          "height": 35
        },
        "id": "HZzGfyGpwJBp",
        "outputId": "017f6222-8e36-4fca-c2d6-f237f361facc"
      },
      "execution_count": null,
      "outputs": [
        {
          "output_type": "execute_result",
          "data": {
            "text/plain": [
              "'.juee.'"
            ],
            "application/vnd.google.colaboratory.intrinsic+json": {
              "type": "string"
            }
          },
          "metadata": {},
          "execution_count": 199
        }
      ]
    },
    {
      "cell_type": "code",
      "source": [
        "from matplotlib import pyplot as plt\n",
        "plt.imshow(BG_TENSOR)"
      ],
      "metadata": {
        "colab": {
          "base_uri": "https://localhost:8080/",
          "height": 447
        },
        "id": "CN5UVzJxXhor",
        "outputId": "ed821430-54e8-450a-a1e4-1a68c5893082"
      },
      "execution_count": null,
      "outputs": [
        {
          "output_type": "execute_result",
          "data": {
            "text/plain": [
              "<matplotlib.image.AxesImage at 0x781a960752d0>"
            ]
          },
          "metadata": {},
          "execution_count": 118
        },
        {
          "output_type": "display_data",
          "data": {
            "text/plain": [
              "<Figure size 640x480 with 1 Axes>"
            ],
            "image/png": "[encoded data removed]"
          },
          "metadata": {}
        }
      ]
    },
    {
      "cell_type": "code",
      "source": [
        "x = tensor([[1,2,-1],[-1,-2,1]])\n",
        "torch.sum(x, axis=1, keepdim=True)"
      ],
      "metadata": {
        "colab": {
          "base_uri": "https://localhost:8080/"
        },
        "id": "ioYh3m76rkHF",
        "outputId": "ee51de76-54d5-4893-f493-ac7d26ea5647"
      },
      "execution_count": null,
      "outputs": [
        {
          "output_type": "execute_result",
          "data": {
            "text/plain": [
              "tensor([[ 2],\n",
              "        [-2]])"
            ]
          },
          "metadata": {},
          "execution_count": 107
        }
      ]
    },
    {
      "cell_type": "markdown",
      "source": [
        "# [Building GPT from scratch](https://www.youtube.com/watch?v=kCc8FmEb1nY&list=PLAqhIrjkxbuWI23v9cThsA9GvCAUhRvKZ&index=7)"
      ],
      "metadata": {
        "id": "V93HGziGp6GG"
      }
    }
  ]
}